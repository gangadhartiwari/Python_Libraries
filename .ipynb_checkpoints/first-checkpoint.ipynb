{
 "cells": [
  {
   "cell_type": "code",
   "execution_count": 1,
   "id": "8ad7bb7c-06bc-4703-8f7a-2c8f07e36ccd",
   "metadata": {},
   "outputs": [
    {
     "name": "stdout",
     "output_type": "stream",
     "text": [
      "gangadhar tiwari\n"
     ]
    }
   ],
   "source": [
    "print(\"gangadhar tiwari\")"
   ]
  },
  {
   "cell_type": "markdown",
   "id": "16125a15-8936-4829-9f8c-de1c554c7233",
   "metadata": {},
   "source": [
    "<h1 style = \"color : red\">Token</h1> \n"
   ]
  },
  {
   "cell_type": "raw",
   "id": "696684b1-c7fb-44b2-a0c3-1e69eba6bec9",
   "metadata": {},
   "source": [
    "\n",
    "Token : small units in any language\n",
    "\n",
    "1. KEYWORD - Predefined word\n",
    "2. PUNCTUATION - MAINLY ALL KEYBOARD KEYS (special symbols)\n",
    "3. IDENTIFIER  - HOW YOU CREATE OBJECT NAME, class name etc. name of an python object is called identifier.\n",
    "               i) Do not start with digit\n",
    "               ii) always start with lowercase or uppercase or underscore.\n",
    "               iii) do not use space between characters.\n",
    "                iv) Case-Sensitive\n",
    "4. OPERATORS  - Mathematical symbol \n",
    "5. LITERALS  - Values of any Variables\n",
    "\n",
    "Some Inbuilt Functions:\n",
    "\n",
    "  1. print ()\n",
    "  2. input()\n",
    "  3. type ()\n",
    "  4. id()\n",
    "\n",
    "   .etc\n",
    "\n",
    "MODULE - A File ends with .PY extension is called module.\n"
   ]
  },
  {
   "cell_type": "code",
   "execution_count": 12,
   "id": "c9676258-9c7d-4615-bc57-19abe47c5a9d",
   "metadata": {},
   "outputs": [
    {
     "name": "stdout",
     "output_type": "stream",
     "text": [
      "['False', 'None', 'True', 'and', 'as', 'assert', 'async', 'await', 'break', 'class', 'continue', 'def', 'del', 'elif', 'else', 'except', 'finally', 'for', 'from', 'global', 'if', 'import', 'in', 'is', 'lambda', 'nonlocal', 'not', 'or', 'pass', 'raise', 'return', 'try', 'while', 'with', 'yield']\n",
      "35\n"
     ]
    }
   ],
   "source": [
    "import keyword\n",
    "\n",
    "all_keyword = keyword.kwlist\n",
    "print(all_keyword)\n",
    "print(len(all_keyword))"
   ]
  },
  {
   "cell_type": "code",
   "execution_count": 20,
   "id": "e3f2edc8-7705-4742-91d5-257e376e44b9",
   "metadata": {},
   "outputs": [
    {
     "name": "stdout",
     "output_type": "stream",
     "text": [
      "!\"#$%&'()*+,-./:;<=>?@[\\]^_`{|}~\n",
      "32\n"
     ]
    }
   ],
   "source": [
    "import string\n",
    "all_punctuations = string.punctuation\n",
    "print(all_punctuations)\n",
    "print(len(all_punctuations))"
   ]
  },
  {
   "cell_type": "code",
   "execution_count": 28,
   "id": "dedcdbdc-4c80-42b8-bffd-b2d4464a1f39",
   "metadata": {},
   "outputs": [
    {
     "ename": "SyntaxError",
     "evalue": "invalid syntax (3728458311.py, line 10)",
     "output_type": "error",
     "traceback": [
      "\u001b[1;36m  Cell \u001b[1;32mIn[28], line 10\u001b[1;36m\u001b[0m\n\u001b[1;33m    Ashish kumar = 43\u001b[0m\n\u001b[1;37m           ^\u001b[0m\n\u001b[1;31mSyntaxError\u001b[0m\u001b[1;31m:\u001b[0m invalid syntax\n"
     ]
    }
   ],
   "source": [
    "x = 10\n",
    "print(x)\n",
    "\n",
    "#1x = 10\n",
    "#print(1x)\n",
    "\n",
    "_x = 250\n",
    "print(_x)\n",
    "\n",
    "Ashish kumar = 43\n",
    "print(Ashish kumar)"
   ]
  },
  {
   "cell_type": "code",
   "execution_count": null,
   "id": "a36edfc1-1df0-4b3d-97a7-4978ec702604",
   "metadata": {},
   "outputs": [],
   "source": []
  }
 ],
 "metadata": {
  "kernelspec": {
   "display_name": "Python [conda env:base] *",
   "language": "python",
   "name": "conda-base-py"
  },
  "language_info": {
   "codemirror_mode": {
    "name": "ipython",
    "version": 3
   },
   "file_extension": ".py",
   "mimetype": "text/x-python",
   "name": "python",
   "nbconvert_exporter": "python",
   "pygments_lexer": "ipython3",
   "version": "3.12.7"
  }
 },
 "nbformat": 4,
 "nbformat_minor": 5
}
