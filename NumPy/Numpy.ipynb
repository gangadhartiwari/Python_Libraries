{
 "cells": [
  {
   "cell_type": "markdown",
   "id": "fa8c3824-8004-4e8c-849a-859d65a2a181",
   "metadata": {},
   "source": [
    "<h1 style = \"color:yellow\">Numpy</h1>"
   ]
  },
  {
   "cell_type": "raw",
   "id": "a3f6791b-889e-423f-80a0-d16a04f7762c",
   "metadata": {},
   "source": [
    "NumPy, short for Numerical Python, is a fundamental package for numerical computation in Python. It provides support for large, multi-dimensional arrays and matrices, along with a collection of mathematical functions to operate on these arrays.\n",
    "\n",
    "NumPy is a Python library and is written partially in Python, but most of the parts that require fast computation are written in C or C++.\n",
    "\n",
    "Why Use NumPy?\n",
    "\n",
    "--> Python we have lists that serve the purpose of arrays, but they are slow to process.\n",
    "-->  NumPy aims to provide an array object that is up to 50x faster than traditional Python lists.\n",
    "-->   The array object in NumPy is called ndarray, it provides a lot of supporting functions that make working with ndarray very easy."
   ]
  },
  {
   "cell_type": "code",
   "execution_count": 1,
   "id": "f1852af6-631b-49cc-a858-6b9f0c74bb2a",
   "metadata": {},
   "outputs": [
    {
     "name": "stdout",
     "output_type": "stream",
     "text": [
      "1.26.4\n"
     ]
    }
   ],
   "source": [
    "import numpy as np\n",
    "\n",
    "print(np.__version__)"
   ]
  },
  {
   "cell_type": "code",
   "execution_count": 1,
   "id": "2579aa15-10e3-4bc8-be8d-22f74a1b97a8",
   "metadata": {},
   "outputs": [
    {
     "name": "stdout",
     "output_type": "stream",
     "text": [
      "list time:-  0.3330390453338623\n",
      "array time:-  0.03185677528381348\n"
     ]
    }
   ],
   "source": [
    "import numpy as np\n",
    "import time\n",
    "size = 1000000\n",
    "list1 = range(size)\n",
    "list2 = range(size)\n",
    "start = time.time()\n",
    "r = [x+y for x, y in zip(list1, list2)]    #list comprihension\n",
    "end = time.time()\n",
    "print(\"list time:- \", end-start)\n",
    "array1 = np.arange(size)\n",
    "array2 = np.arange(size)\n",
    "start = time.time()\n",
    "r = array1+array2\n",
    "end = time.time()\n",
    "print(\"array time:- \", end- start)"
   ]
  },
  {
   "cell_type": "code",
   "execution_count": 2,
   "id": "2b7eff49-6585-4a3b-901a-97ba5717ebfc",
   "metadata": {},
   "outputs": [
    {
     "name": "stdout",
     "output_type": "stream",
     "text": [
      "27.5 μs ± 760 ns per loop (mean ± std. dev. of 7 runs, 10,000 loops each)\n"
     ]
    }
   ],
   "source": [
    "%timeit [j**4 for j in range(1,90)]"
   ]
  },
  {
   "cell_type": "code",
   "execution_count": 3,
   "id": "355b7858-cb60-4367-b5b3-eee6d7698920",
   "metadata": {},
   "outputs": [
    {
     "name": "stdout",
     "output_type": "stream",
     "text": [
      "10.3 μs ± 1.08 μs per loop (mean ± std. dev. of 7 runs, 100,000 loops each)\n"
     ]
    }
   ],
   "source": [
    "%timeit np.arange(1,90)**4"
   ]
  },
  {
   "cell_type": "code",
   "execution_count": 4,
   "id": "b38d83e8-4f26-4882-b170-34f214763549",
   "metadata": {},
   "outputs": [
    {
     "name": "stdout",
     "output_type": "stream",
     "text": [
      "[0. 0. 0.]\n",
      "<class 'numpy.ndarray'>\n"
     ]
    }
   ],
   "source": [
    "a = np.zeros(3)\n",
    "print(a)\n",
    "print(type(a))"
   ]
  },
  {
   "cell_type": "code",
   "execution_count": 5,
   "id": "079b7c1a-7a63-4aae-bdfc-1ed1270143a4",
   "metadata": {},
   "outputs": [
    {
     "name": "stdout",
     "output_type": "stream",
     "text": [
      "[1. 1. 1.]\n",
      "<class 'numpy.ndarray'>\n"
     ]
    }
   ],
   "source": [
    "a = np.ones(3)\n",
    "print(a)\n",
    "print(type(a))"
   ]
  },
  {
   "cell_type": "code",
   "execution_count": 10,
   "id": "0c34abbc-818d-4c25-b236-322a64eaff51",
   "metadata": {},
   "outputs": [
    {
     "name": "stdout",
     "output_type": "stream",
     "text": [
      "[1, 2, 3, 4]\n",
      "<class 'list'>\n"
     ]
    }
   ],
   "source": [
    "l = [1,2,3,4]\n",
    "print(l)\n",
    "print(type(l))"
   ]
  },
  {
   "cell_type": "markdown",
   "id": "797ff650-b689-4237-99e9-a7128e75b820",
   "metadata": {},
   "source": [
    "<h2>creating Numpy array</h2>"
   ]
  },
  {
   "cell_type": "code",
   "execution_count": 3,
   "id": "e214b4d7-4a89-417c-9162-efa5989ca1bb",
   "metadata": {},
   "outputs": [
    {
     "data": {
      "text/plain": [
       "array([ 12,  15, 254,  36,  45])"
      ]
     },
     "execution_count": 3,
     "metadata": {},
     "output_type": "execute_result"
    }
   ],
   "source": [
    "import numpy as np \n",
    "\n",
    "np.array([12, 15, 254, 36, 45])   # 1D Array\n"
   ]
  },
  {
   "cell_type": "code",
   "execution_count": 12,
   "id": "3c9f4db0-4b72-45d0-ad9b-4371b08aa4d3",
   "metadata": {},
   "outputs": [
    {
     "name": "stdout",
     "output_type": "stream",
     "text": [
      "[ 12  15  58  69 564]\n"
     ]
    }
   ],
   "source": [
    "a = np.array([12,15,58,69,564])       #Vector\n",
    "print(a)"
   ]
  },
  {
   "cell_type": "code",
   "execution_count": 13,
   "id": "e93b1676-e77c-4429-bd16-513c310d9f4f",
   "metadata": {},
   "outputs": [
    {
     "name": "stdout",
     "output_type": "stream",
     "text": [
      "<class 'numpy.ndarray'>\n"
     ]
    }
   ],
   "source": [
    "print(type(a))"
   ]
  },
  {
   "cell_type": "code",
   "execution_count": 4,
   "id": "bccbad91-acae-4ee8-88f7-e35ea4f62108",
   "metadata": {},
   "outputs": [
    {
     "data": {
      "text/plain": [
       "dtype('float32')"
      ]
     },
     "execution_count": 4,
     "metadata": {},
     "output_type": "execute_result"
    }
   ],
   "source": [
    "arr = np.array([1,2,3], dtype=\"f4\")\n",
    "arr.dtype"
   ]
  },
  {
   "cell_type": "code",
   "execution_count": 6,
   "id": "0657c535-cf17-4d4e-8b76-737f6435007b",
   "metadata": {},
   "outputs": [
    {
     "data": {
      "text/plain": [
       "dtype('float32')"
      ]
     },
     "execution_count": 6,
     "metadata": {},
     "output_type": "execute_result"
    }
   ],
   "source": [
    "#identical to the above\n",
    "arr = np.array([1,2,3], dtype = 'float32')\n",
    "arr.dtype"
   ]
  },
  {
   "cell_type": "code",
   "execution_count": 2,
   "id": "17d2ecc5-3039-49e7-b331-799bcaedfa57",
   "metadata": {},
   "outputs": [
    {
     "data": {
      "text/plain": [
       "dtype('float64')"
      ]
     },
     "execution_count": 2,
     "metadata": {},
     "output_type": "execute_result"
    }
   ],
   "source": [
    "arr = np.array([1,2,3], dtype = 'g')\n",
    "arr.dtype"
   ]
  },
  {
   "cell_type": "code",
   "execution_count": 7,
   "id": "81386094-f89f-4a4f-a50c-403bf974c161",
   "metadata": {},
   "outputs": [
    {
     "data": {
      "text/plain": [
       "dtype('complex64')"
      ]
     },
     "execution_count": 7,
     "metadata": {},
     "output_type": "execute_result"
    }
   ],
   "source": [
    "arr = np.array([1+2j, 3-4j], dtype = np.complex64)\n",
    "arr.dtype"
   ]
  },
  {
   "cell_type": "code",
   "execution_count": 3,
   "id": "ed689f4c-c6d0-44db-a337-953a78328c1b",
   "metadata": {},
   "outputs": [
    {
     "data": {
      "text/plain": [
       "dtype('complex64')"
      ]
     },
     "execution_count": 3,
     "metadata": {},
     "output_type": "execute_result"
    }
   ],
   "source": [
    "arr = np.array([1+2j, 3-4j], dtype = 'c8')\n",
    "arr.dtype"
   ]
  },
  {
   "cell_type": "code",
   "execution_count": 8,
   "id": "a4ff5ed4-9089-4870-b078-61aeb3bc5ce8",
   "metadata": {},
   "outputs": [
    {
     "name": "stdout",
     "output_type": "stream",
     "text": [
      "[ 0  2  4  6  8 10 12 14 16 18]\n"
     ]
    }
   ],
   "source": [
    "#you can create arrakly by list and tuple but not using dict and set.  \n",
    "\n",
    "arr = np.arange(0,20,2)\n",
    "print(arr)"
   ]
  },
  {
   "cell_type": "code",
   "execution_count": 7,
   "id": "1f4ec0d8-edee-40b2-92cd-fb159b16999b",
   "metadata": {},
   "outputs": [
    {
     "name": "stdout",
     "output_type": "stream",
     "text": [
      "original datatype:- int16\n",
      "Datatype after conversion:- float32\n"
     ]
    }
   ],
   "source": [
    "# astype it convert the arrays datatype from ont to another (changing datatype) \n",
    "\n",
    "arr = np.array([1,2,3], dtype = 'int16')\n",
    "print(\"original datatype:- \" + str(arr.dtype))\n",
    "\n",
    "#Conversion of data type into float32\n",
    "arr = arr.astype(np.float32)\n",
    "print(\"Datatype after conversion:- \" + str(arr.dtype))"
   ]
  },
  {
   "cell_type": "code",
   "execution_count": 11,
   "id": "597c8aac-6fae-4e1c-9652-343049e1ded8",
   "metadata": {},
   "outputs": [
    {
     "name": "stdout",
     "output_type": "stream",
     "text": [
      "np array before type conversion : [126 127 256]\n",
      "np array After type conversion : [126 127   0]\n"
     ]
    }
   ],
   "source": [
    "# overflow at downcasting\n",
    "\n",
    "arr = np.array([126,127,256], dtype= \"int16\")\n",
    "print(\"np array before type conversion : \"+ str(arr))\n",
    "\n",
    "#range of int8 [-128, 127]\n",
    "arr = arr.astype('int8')\n",
    "print(\"np array After type conversion : \"  +str(arr))"
   ]
  },
  {
   "cell_type": "code",
   "execution_count": 12,
   "id": "3476f670-470c-4bc5-8198-67c991e4b8ed",
   "metadata": {},
   "outputs": [
    {
     "name": "stdout",
     "output_type": "stream",
     "text": [
      "[1 2 3 4 5]\n"
     ]
    }
   ],
   "source": [
    "#creating array from an iterable \n",
    "\n",
    "arr = np.array([1,2,3,4,5])\n",
    "print(arr)"
   ]
  },
  {
   "cell_type": "code",
   "execution_count": 13,
   "id": "9df21b28-fbcd-4901-956d-ffe8a3db67da",
   "metadata": {},
   "outputs": [
    {
     "name": "stdout",
     "output_type": "stream",
     "text": [
      "[1 2 3 4 5]\n"
     ]
    }
   ],
   "source": [
    "arr = np.array((1,2,3,4,5))\n",
    "print(arr)"
   ]
  },
  {
   "cell_type": "code",
   "execution_count": 14,
   "id": "23e5f63a-4e2d-48de-bc60-de8ee0744c7c",
   "metadata": {},
   "outputs": [
    {
     "name": "stdout",
     "output_type": "stream",
     "text": [
      "[0 1 2 3 4 5 6 7 8 9]\n"
     ]
    }
   ],
   "source": [
    "# difining array by range function of llist\n",
    "\n",
    "arr = np.array(range(10))\n",
    "print(arr)"
   ]
  },
  {
   "cell_type": "code",
   "execution_count": 16,
   "id": "39168826-3466-41fc-a907-89bdd6e6ea3c",
   "metadata": {},
   "outputs": [
    {
     "name": "stdout",
     "output_type": "stream",
     "text": [
      "[[1 2 3]\n",
      " [4 5 6]]\n",
      "datatype: int16\n"
     ]
    }
   ],
   "source": [
    "arr = np.array([[1,2,3], [4,5,6]], dtype = 'i2')\n",
    "print(arr)\n",
    "print(\"datatype: \" + str(arr.dtype))"
   ]
  },
  {
   "cell_type": "code",
   "execution_count": null,
   "id": "3abda2b0-50a7-462e-bfdb-418eb3ce4c28",
   "metadata": {},
   "outputs": [],
   "source": [
    "# create an array with specified data type "
   ]
  },
  {
   "cell_type": "code",
   "execution_count": 18,
   "id": "f2de9d2f-818a-4aaa-991d-90d4b9dda547",
   "metadata": {},
   "outputs": [
    {
     "name": "stdout",
     "output_type": "stream",
     "text": [
      "[ 0  2  4  6  8 10 12 14 16 18]\n"
     ]
    }
   ],
   "source": [
    "# np.arange(start, stop, step)\n",
    "\n",
    "arr = np.arange(0, 20, 2)\n",
    "print(arr)"
   ]
  },
  {
   "cell_type": "markdown",
   "id": "7e0205f5-0163-46cc-875c-8fba08543368",
   "metadata": {},
   "source": [
    "<h3>2D array</h3>"
   ]
  },
  {
   "cell_type": "code",
   "execution_count": 14,
   "id": "c02c88ef-35ce-49bc-a048-7a085c1125f1",
   "metadata": {},
   "outputs": [
    {
     "name": "stdout",
     "output_type": "stream",
     "text": [
      "[[ 12  14  56 321   9]\n",
      " [ 14  56  78  96   3]]\n"
     ]
    }
   ],
   "source": [
    "# 2D Array  (Matrix)\n",
    "\n",
    "new = np.array([[12,14,56,321,9],[14, 56,78,96,3]])\n",
    "print(new)"
   ]
  },
  {
   "cell_type": "markdown",
   "id": "43e09a50-af25-4379-ba61-5efbcc9781fb",
   "metadata": {},
   "source": [
    "<h3>3D Array</h3>"
   ]
  },
  {
   "cell_type": "code",
   "execution_count": 7,
   "id": "c06eb6b3-be42-426d-a18c-39c61da1f248",
   "metadata": {},
   "outputs": [
    {
     "name": "stdout",
     "output_type": "stream",
     "text": [
      "[[14 69 45 36 45]\n",
      " [45 47 23 96  2]\n",
      " [14 36 45 78 69]\n",
      " [14 36 21 54 98]]\n"
     ]
    }
   ],
   "source": [
    "# 3D Array  (Tensor)\n",
    "\n",
    "new =np.array([[14,69,45,36,45],[45,47,23,96,2],[14,36,45,78,69],[14,36,21,54,98]])\n",
    "print(new)"
   ]
  },
  {
   "cell_type": "code",
   "execution_count": 6,
   "id": "88e60a06-9fc4-441c-9fa9-24818f36c2bf",
   "metadata": {},
   "outputs": [
    {
     "name": "stdout",
     "output_type": "stream",
     "text": [
      "Defaulting to user installation because normal site-packages is not writeable\n",
      "Requirement already satisfied: pandas in c:\\programdata\\anaconda3\\lib\\site-packages (2.2.2)\n",
      "Requirement already satisfied: numpy>=1.26.0 in c:\\programdata\\anaconda3\\lib\\site-packages (from pandas) (1.26.4)\n",
      "Requirement already satisfied: python-dateutil>=2.8.2 in c:\\programdata\\anaconda3\\lib\\site-packages (from pandas) (2.9.0.post0)\n",
      "Requirement already satisfied: pytz>=2020.1 in c:\\programdata\\anaconda3\\lib\\site-packages (from pandas) (2024.1)\n",
      "Requirement already satisfied: tzdata>=2022.7 in c:\\programdata\\anaconda3\\lib\\site-packages (from pandas) (2023.3)\n",
      "Requirement already satisfied: six>=1.5 in c:\\programdata\\anaconda3\\lib\\site-packages (from python-dateutil>=2.8.2->pandas) (1.16.0)\n",
      "Note: you may need to restart the kernel to use updated packages.\n"
     ]
    }
   ],
   "source": [
    "pip install pandas"
   ]
  },
  {
   "cell_type": "code",
   "execution_count": 1,
   "id": "db5a841a-3d27-405b-9be7-15734232b5fd",
   "metadata": {},
   "outputs": [],
   "source": [
    "import pandas as pd "
   ]
  },
  {
   "cell_type": "code",
   "execution_count": null,
   "id": "0c9a8661-2cc4-4384-8f87-bbc833b34c8a",
   "metadata": {},
   "outputs": [],
   "source": [
    "# astype:- datatype conversion    "
   ]
  },
  {
   "cell_type": "code",
   "execution_count": null,
   "id": "3dd1a30b-57d3-4ee5-bf21-19d1f9d26aec",
   "metadata": {},
   "outputs": [],
   "source": [
    "# create an array of random values of given shape "
   ]
  },
  {
   "cell_type": "code",
   "execution_count": 19,
   "id": "28667274-8ce0-4dde-a281-777c53d5a79e",
   "metadata": {},
   "outputs": [
    {
     "name": "stdout",
     "output_type": "stream",
     "text": [
      "[[0.31001285 0.49780101 0.24036057]\n",
      " [0.79166186 0.7042636  0.33842647]\n",
      " [0.99556546 0.03529123 0.81448398]]\n"
     ]
    }
   ],
   "source": [
    "arr = np.random.rand(3,3)\n",
    "print(arr)"
   ]
  },
  {
   "cell_type": "code",
   "execution_count": 20,
   "id": "f2006178-e348-4086-8658-8c7cd3e8651c",
   "metadata": {},
   "outputs": [
    {
     "name": "stdout",
     "output_type": "stream",
     "text": [
      "[[[0.21429484 0.35546623 0.67195207]\n",
      "  [0.60273544 0.63710061 0.2753219 ]\n",
      "  [0.65476838 0.9338876  0.49691489]]\n",
      "\n",
      " [[0.35096272 0.93412682 0.35936643]\n",
      "  [0.94435308 0.76079832 0.30069609]\n",
      "  [0.23354729 0.85875338 0.60388837]]\n",
      "\n",
      " [[0.00261258 0.9538274  0.12933466]\n",
      "  [0.90205541 0.69728468 0.97205671]\n",
      "  [0.76020653 0.97665146 0.82592877]]]\n"
     ]
    }
   ],
   "source": [
    "arr = np.random.rand(3,3,3)\n",
    "print(arr)"
   ]
  },
  {
   "cell_type": "code",
   "execution_count": 21,
   "id": "c2040a9d-1783-4770-a33a-af2466f59556",
   "metadata": {},
   "outputs": [
    {
     "name": "stdout",
     "output_type": "stream",
     "text": [
      "[[1. 1. 1.]\n",
      " [1. 1. 1.]\n",
      " [1. 1. 1.]]\n"
     ]
    }
   ],
   "source": [
    "arr = np.ones((3,3))\n",
    "print(arr)"
   ]
  },
  {
   "cell_type": "code",
   "execution_count": 3,
   "id": "9d55a8bc-d44a-4567-9c8d-6a6b8bbff465",
   "metadata": {},
   "outputs": [
    {
     "name": "stdout",
     "output_type": "stream",
     "text": [
      "[[0.+0.j 0.+0.j]\n",
      " [0.+0.j 0.+0.j]\n",
      " [0.+0.j 0.+0.j]]\n",
      "Data type: complex64\n"
     ]
    }
   ],
   "source": [
    "arr = np.array([[1,2], [3,4], [5,6]], dtype = np.complex64)\n",
    "zeros =np.zeros_like(arr)\n",
    "print(zeros)\n",
    "print('Data type: ' + str(zeros.dtype))"
   ]
  },
  {
   "cell_type": "code",
   "execution_count": 4,
   "id": "d13a6ada-9cf5-4176-8adb-a93583e34631",
   "metadata": {},
   "outputs": [
    {
     "name": "stdout",
     "output_type": "stream",
     "text": [
      "[[1.+0.j 1.+0.j]\n",
      " [1.+0.j 1.+0.j]\n",
      " [1.+0.j 1.+0.j]]\n",
      "Data type: complex64\n"
     ]
    }
   ],
   "source": [
    "# changing the goven value with ones \n",
    "\n",
    "arr = np.array([[1,2], [3,4], [5,6]], dtype = np.complex64)\n",
    "ones =np.ones_like(arr)\n",
    "print(ones)\n",
    "print('Data type: ' + str(ones.dtype))"
   ]
  },
  {
   "cell_type": "code",
   "execution_count": 12,
   "id": "a3fba36a-9cba-47b5-8109-7473bf95a611",
   "metadata": {},
   "outputs": [
    {
     "name": "stdout",
     "output_type": "stream",
     "text": [
      "[[[1. 1.]\n",
      "  [1. 1.]]\n",
      "\n",
      " [[1. 1.]\n",
      "  [1. 1.]]\n",
      "\n",
      " [[1. 1.]\n",
      "  [1. 1.]]]\n"
     ]
    }
   ],
   "source": [
    "ones= np.ones((3,2,2))\n",
    "print(ones)"
   ]
  },
  {
   "cell_type": "code",
   "execution_count": null,
   "id": "b3d1a0f3-1ed9-4de1-885e-6e9e92d64aa1",
   "metadata": {},
   "outputs": [],
   "source": [
    "# create an empty aray of given shape \n"
   ]
  },
  {
   "cell_type": "code",
   "execution_count": 15,
   "id": "63874c04-a879-4d50-babe-674b1f1a3ccf",
   "metadata": {},
   "outputs": [
    {
     "name": "stdout",
     "output_type": "stream",
     "text": [
      "[[0. 0. 0.]\n",
      " [0. 0. 0.]\n",
      " [0. 0. 0.]]\n"
     ]
    }
   ],
   "source": [
    "arr = np.empty((3,3))\n",
    "print(arr)"
   ]
  },
  {
   "cell_type": "code",
   "execution_count": 16,
   "id": "b7120f0a-67d1-42c5-bf2e-7381badc2246",
   "metadata": {},
   "outputs": [
    {
     "name": "stdout",
     "output_type": "stream",
     "text": [
      "[[1065353216 1073741824 1077936128]\n",
      " [1082130432 1084227584 1086324736]]\n",
      "Data type int64\n"
     ]
    }
   ],
   "source": [
    "arr = np.array([[1,2,3],[4,5,6]], dtype = np.int64)\n",
    "empty = np.empty_like(arr)\n",
    "print(empty)\n",
    "print(\"Data type \"+ str(empty.dtype))"
   ]
  },
  {
   "cell_type": "code",
   "execution_count": 17,
   "id": "cff3d4c2-e826-4129-a05e-2caea11e2f87",
   "metadata": {},
   "outputs": [
    {
     "name": "stdout",
     "output_type": "stream",
     "text": [
      "[[5 5 5 5]\n",
      " [5 5 5 5]\n",
      " [5 5 5 5]\n",
      " [5 5 5 5]]\n"
     ]
    }
   ],
   "source": [
    "# create an array of connstant values of giveb shape\n",
    "\n",
    "\n",
    "full = np.full((4,4), 5)\n",
    "print(full)"
   ]
  },
  {
   "cell_type": "code",
   "execution_count": 19,
   "id": "ff5d7b0e-da90-479d-b675-355054f133b4",
   "metadata": {},
   "outputs": [
    {
     "name": "stdout",
     "output_type": "stream",
     "text": [
      "[[5. 5.]\n",
      " [5. 5.]]\n",
      "Data Type : float64\n"
     ]
    }
   ],
   "source": [
    "arr = np.array([[1,2],[4,5]], dtype = np.float64)\n",
    "full = np.full_like(arr, 5)\n",
    "print(full)\n",
    "print(\"Data Type : \"+ str(full.dtype))"
   ]
  },
  {
   "cell_type": "code",
   "execution_count": null,
   "id": "e34cb114-00ab-4e87-aa7b-b6b84e0a6990",
   "metadata": {},
   "outputs": [],
   "source": [
    "# create an array in a repetitive manner \n",
    "# np.repeat (iterable, reps, axis = None): repeat each element by n times \n",
    "# iterable : input array "
   ]
  },
  {
   "cell_type": "code",
   "execution_count": 20,
   "id": "555d7f29-f13b-45c9-8387-3e11c6756e01",
   "metadata": {},
   "outputs": [
    {
     "name": "stdout",
     "output_type": "stream",
     "text": [
      "[1 1 1 2 2 2 3 3 3 3 3 3 4 4 4 5 5 5]\n"
     ]
    }
   ],
   "source": [
    "# NO axis specified , then flatten  THE input array first and repeat \n",
    "\n",
    "arr= [[1,2,3], [3,4,5]]\n",
    "print(np.repeat(arr, 3))"
   ]
  },
  {
   "cell_type": "code",
   "execution_count": 21,
   "id": "853101ea-0d8e-4c3a-862d-1c6572e521b2",
   "metadata": {},
   "outputs": [
    {
     "name": "stdout",
     "output_type": "stream",
     "text": [
      "[[0 1 2]\n",
      " [0 1 2]\n",
      " [0 1 2]\n",
      " [3 4 5]\n",
      " [3 4 5]\n",
      " [3 4 5]]\n"
     ]
    }
   ],
   "source": [
    "# An example of repeating along x -axis\n",
    "\n",
    "arr = [[0,1,2], [3,4,5]]\n",
    "print(np.repeat(arr, 3, axis=0))"
   ]
  },
  {
   "cell_type": "code",
   "execution_count": 22,
   "id": "4a4770d4-29ec-44ec-88f7-b91943fd1027",
   "metadata": {},
   "outputs": [
    {
     "name": "stdout",
     "output_type": "stream",
     "text": [
      "[[0 0 0 1 1 1 2 2 2]\n",
      " [3 3 3 4 4 4 5 5 5]]\n"
     ]
    }
   ],
   "source": [
    "# An example of repeating along y -axis\n",
    "\n",
    "arr = [[0,1,2], [3,4,5]]\n",
    "print(np.repeat(arr, 3, axis=1))"
   ]
  },
  {
   "cell_type": "code",
   "execution_count": 1,
   "id": "ac47761c-523a-4537-8f3c-67d29a37c529",
   "metadata": {},
   "outputs": [
    {
     "name": "stdout",
     "output_type": "stream",
     "text": [
      "Defaulting to user installation because normal site-packages is not writeable\n",
      "Requirement already satisfied: matplotlib in c:\\programdata\\anaconda3\\lib\\site-packages (3.9.2)\n",
      "Requirement already satisfied: contourpy>=1.0.1 in c:\\programdata\\anaconda3\\lib\\site-packages (from matplotlib) (1.2.0)\n",
      "Requirement already satisfied: cycler>=0.10 in c:\\programdata\\anaconda3\\lib\\site-packages (from matplotlib) (0.11.0)\n",
      "Requirement already satisfied: fonttools>=4.22.0 in c:\\programdata\\anaconda3\\lib\\site-packages (from matplotlib) (4.51.0)\n",
      "Requirement already satisfied: kiwisolver>=1.3.1 in c:\\programdata\\anaconda3\\lib\\site-packages (from matplotlib) (1.4.4)\n",
      "Requirement already satisfied: numpy>=1.23 in c:\\programdata\\anaconda3\\lib\\site-packages (from matplotlib) (1.26.4)\n",
      "Requirement already satisfied: packaging>=20.0 in c:\\programdata\\anaconda3\\lib\\site-packages (from matplotlib) (24.1)\n",
      "Requirement already satisfied: pillow>=8 in c:\\programdata\\anaconda3\\lib\\site-packages (from matplotlib) (10.4.0)\n",
      "Requirement already satisfied: pyparsing>=2.3.1 in c:\\programdata\\anaconda3\\lib\\site-packages (from matplotlib) (3.1.2)\n",
      "Requirement already satisfied: python-dateutil>=2.7 in c:\\programdata\\anaconda3\\lib\\site-packages (from matplotlib) (2.9.0.post0)\n",
      "Requirement already satisfied: six>=1.5 in c:\\programdata\\anaconda3\\lib\\site-packages (from python-dateutil>=2.7->matplotlib) (1.16.0)\n",
      "Note: you may need to restart the kernel to use updated packages.\n"
     ]
    }
   ],
   "source": [
    "pip install matplotlib"
   ]
  },
  {
   "cell_type": "code",
   "execution_count": 2,
   "id": "e5ea2efa-a3e7-46a9-b80f-80bc5200dc7c",
   "metadata": {},
   "outputs": [
    {
     "name": "stdout",
     "output_type": "stream",
     "text": [
      "Defaulting to user installation because normal site-packages is not writeable\n",
      "Requirement already satisfied: seaborn in c:\\programdata\\anaconda3\\lib\\site-packages (0.13.2)\n",
      "Requirement already satisfied: numpy!=1.24.0,>=1.20 in c:\\programdata\\anaconda3\\lib\\site-packages (from seaborn) (1.26.4)\n",
      "Requirement already satisfied: pandas>=1.2 in c:\\programdata\\anaconda3\\lib\\site-packages (from seaborn) (2.2.2)\n",
      "Requirement already satisfied: matplotlib!=3.6.1,>=3.4 in c:\\programdata\\anaconda3\\lib\\site-packages (from seaborn) (3.9.2)\n",
      "Requirement already satisfied: contourpy>=1.0.1 in c:\\programdata\\anaconda3\\lib\\site-packages (from matplotlib!=3.6.1,>=3.4->seaborn) (1.2.0)\n",
      "Requirement already satisfied: cycler>=0.10 in c:\\programdata\\anaconda3\\lib\\site-packages (from matplotlib!=3.6.1,>=3.4->seaborn) (0.11.0)\n",
      "Requirement already satisfied: fonttools>=4.22.0 in c:\\programdata\\anaconda3\\lib\\site-packages (from matplotlib!=3.6.1,>=3.4->seaborn) (4.51.0)\n",
      "Requirement already satisfied: kiwisolver>=1.3.1 in c:\\programdata\\anaconda3\\lib\\site-packages (from matplotlib!=3.6.1,>=3.4->seaborn) (1.4.4)\n",
      "Requirement already satisfied: packaging>=20.0 in c:\\programdata\\anaconda3\\lib\\site-packages (from matplotlib!=3.6.1,>=3.4->seaborn) (24.1)\n",
      "Requirement already satisfied: pillow>=8 in c:\\programdata\\anaconda3\\lib\\site-packages (from matplotlib!=3.6.1,>=3.4->seaborn) (10.4.0)\n",
      "Requirement already satisfied: pyparsing>=2.3.1 in c:\\programdata\\anaconda3\\lib\\site-packages (from matplotlib!=3.6.1,>=3.4->seaborn) (3.1.2)\n",
      "Requirement already satisfied: python-dateutil>=2.7 in c:\\programdata\\anaconda3\\lib\\site-packages (from matplotlib!=3.6.1,>=3.4->seaborn) (2.9.0.post0)\n",
      "Requirement already satisfied: pytz>=2020.1 in c:\\programdata\\anaconda3\\lib\\site-packages (from pandas>=1.2->seaborn) (2024.1)\n",
      "Requirement already satisfied: tzdata>=2022.7 in c:\\programdata\\anaconda3\\lib\\site-packages (from pandas>=1.2->seaborn) (2023.3)\n",
      "Requirement already satisfied: six>=1.5 in c:\\programdata\\anaconda3\\lib\\site-packages (from python-dateutil>=2.7->matplotlib!=3.6.1,>=3.4->seaborn) (1.16.0)\n",
      "Note: you may need to restart the kernel to use updated packages.\n"
     ]
    }
   ],
   "source": [
    "pip install seaborn "
   ]
  },
  {
   "cell_type": "code",
   "execution_count": 2,
   "id": "f6025a3c-16f3-42ef-a90f-cacd91445cf7",
   "metadata": {},
   "outputs": [
    {
     "name": "stdout",
     "output_type": "stream",
     "text": [
      "[0 1 2 0 1 2 0 1 2]\n"
     ]
    }
   ],
   "source": [
    "# repeat the whole array by a specified number of times \n",
    "\n",
    "arr = [0,1,2]\n",
    "print(np.tile(arr, 3))"
   ]
  },
  {
   "cell_type": "code",
   "execution_count": 4,
   "id": "a763df2a-f2d2-44ab-a538-f381d737f63c",
   "metadata": {},
   "outputs": [
    {
     "name": "stdout",
     "output_type": "stream",
     "text": [
      "[[0 1 2 0 1 2]\n",
      " [0 1 2 0 1 2]]\n"
     ]
    }
   ],
   "source": [
    "arr = [0,1,2]\n",
    "print(np.tile(arr, (2,2)))"
   ]
  },
  {
   "cell_type": "code",
   "execution_count": 8,
   "id": "034521ce-a417-4952-a6cb-d25cac8b0382",
   "metadata": {},
   "outputs": [
    {
     "name": "stdout",
     "output_type": "stream",
     "text": [
      "[[1. 0. 0. 0. 0.]\n",
      " [0. 1. 0. 0. 0.]\n",
      " [0. 0. 1. 0. 0.]\n",
      " [0. 0. 0. 1. 0.]\n",
      " [0. 0. 0. 0. 1.]]\n"
     ]
    }
   ],
   "source": [
    "identity_matrix = np.eye(5)\n",
    "print(identity_matrix)"
   ]
  },
  {
   "cell_type": "code",
   "execution_count": 7,
   "id": "bf32590a-65bc-49c8-b2d5-555b12d37750",
   "metadata": {},
   "outputs": [
    {
     "name": "stdout",
     "output_type": "stream",
     "text": [
      "[[0. 1. 0. 0. 0.]\n",
      " [0. 0. 1. 0. 0.]\n",
      " [0. 0. 0. 1. 0.]\n",
      " [0. 0. 0. 0. 1.]\n",
      " [0. 0. 0. 0. 0.]]\n"
     ]
    }
   ],
   "source": [
    "# An example of diagonal  offset \n",
    "\n",
    "identity_matrix = np.eye(5, k=1)\n",
    "print(identity_matrix)"
   ]
  },
  {
   "cell_type": "code",
   "execution_count": 9,
   "id": "78394d55-a715-4613-9bf7-1f191c5bbf95",
   "metadata": {},
   "outputs": [
    {
     "name": "stdout",
     "output_type": "stream",
     "text": [
      "[[1. 0. 0. 0. 0.]\n",
      " [0. 1. 0. 0. 0.]\n",
      " [0. 0. 1. 0. 0.]\n",
      " [0. 0. 0. 1. 0.]\n",
      " [0. 0. 0. 0. 1.]]\n"
     ]
    }
   ],
   "source": [
    "identity_matrix = np.identity(5)\n",
    "print(identity_matrix)"
   ]
  },
  {
   "cell_type": "code",
   "execution_count": 10,
   "id": "42398ebb-49c6-45dc-b562-6ca59b09369d",
   "metadata": {},
   "outputs": [],
   "source": [
    "import numpy as np \n",
    "import pandas as pd \n",
    "import matplotlib.pyplot as plt \n",
    "import seaborn as sns"
   ]
  },
  {
   "cell_type": "code",
   "execution_count": 12,
   "id": "b2296009-f58f-4c0e-bcde-34c3f5a8277c",
   "metadata": {},
   "outputs": [
    {
     "data": {
      "text/plain": [
       "<Axes: ylabel='Count'>"
      ]
     },
     "execution_count": 12,
     "metadata": {},
     "output_type": "execute_result"
    },
    {
     "data": {
      "image/png": "[encoded data removed]",
      "text/plain": [
       "<Figure size 640x480 with 1 Axes>"
      ]
     },
     "metadata": {},
     "output_type": "display_data"
    }
   ],
   "source": [
    "sns.histplot(np.random.normal(loc = 1, scale = 2, size = (2000)))"
   ]
  },
  {
   "cell_type": "code",
   "execution_count": null,
   "id": "ad5e81c6-6676-4ed3-904d-e52e616bac9d",
   "metadata": {},
   "outputs": [],
   "source": []
  }
 ],
 "metadata": {
  "kernelspec": {
   "display_name": "Python 3 (ipykernel)",
   "language": "python",
   "name": "python3"
  },
  "language_info": {
   "codemirror_mode": {
    "name": "ipython",
    "version": 3
   },
   "file_extension": ".py",
   "mimetype": "text/x-python",
   "name": "python",
   "nbconvert_exporter": "python",
   "pygments_lexer": "ipython3",
   "version": "3.12.7"
  }
 },
 "nbformat": 4,
 "nbformat_minor": 5
}
